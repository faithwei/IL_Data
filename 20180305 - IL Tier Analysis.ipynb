{
 "cells": [
  {
   "cell_type": "code",
   "execution_count": 1,
   "metadata": {
    "collapsed": false
   },
   "outputs": [],
   "source": [
    "import numpy as np\n",
    "import pandas as pd\n",
    "from pandas import Series, DataFrame"
   ]
  },
  {
   "cell_type": "code",
   "execution_count": 2,
   "metadata": {
    "collapsed": false
   },
   "outputs": [
    {
     "name": "stdout",
     "output_type": "stream",
     "text": [
      "<class 'pandas.core.frame.DataFrame'>\n",
      "RangeIndex: 17952 entries, 0 to 17951\n",
      "Data columns (total 23 columns):\n",
      "Partner Name               17952 non-null object\n",
      "Impl License Status        17952 non-null object\n",
      "Statement #                17952 non-null object\n",
      "Trans. End Date            17952 non-null object\n",
      "Sold Quarter               17952 non-null object\n",
      "Qty                        17952 non-null int64\n",
      "Rptd. Customer             17952 non-null object\n",
      "Orig. Res, Customer        17789 non-null object\n",
      "Res. Customer              17789 non-null object\n",
      "Customer License Status    17789 non-null object\n",
      "Rptd. Item                 17952 non-null object\n",
      "Res. Item #                17011 non-null object\n",
      "Rptd. Sale Country Name    17952 non-null object\n",
      "Sale Sub-Region            17817 non-null object\n",
      "Rptd. Distributor          11244 non-null object\n",
      "Trans. #                   17952 non-null object\n",
      "Royalty Type               17952 non-null object\n",
      "Transaction Status         17952 non-null object\n",
      "Claim Stage                1696 non-null object\n",
      "Eval/Sample Distributed    165 non-null object\n",
      "Comments                   126 non-null object\n",
      "SF Entity Id               17952 non-null int64\n",
      "SAP Entity ID              17946 non-null float64\n",
      "dtypes: float64(1), int64(2), object(20)\n",
      "memory usage: 3.2+ MB\n"
     ]
    }
   ],
   "source": [
    "# df_IL_2012 = pd.read_csv('IL_2012.csv')\n",
    "# df_IL_2013 = pd.read_csv('IL_2013.csv')\n",
    "# df_IL_2014 = pd.read_csv('IL_2014.csv')\n",
    "# df_IL_2015 = pd.read_csv('IL_2015.csv')\n",
    "# df_IL_2016 = pd.read_csv('IL_2016.csv')\n",
    "df_IL_2017 = pd.read_csv('IL_2017.csv')\n",
    "# df_IL_2012_2013 = pd.concat([df_IL_2012,df_IL_2013])\n",
    "# df_IL_2012_2013.describe(include='all')\n",
    "# df_IL_2012_2013.tail()\n",
    "df_IL_2017.info()"
   ]
  },
  {
   "cell_type": "code",
   "execution_count": 3,
   "metadata": {
    "collapsed": false
   },
   "outputs": [],
   "source": [
    "df_IL_2017.rename(columns={'Partner Name':'Partner_Name','Statement #':'Statement_ID',\n",
    "                           'Sold Quarter':'Sold_Quarter','Rptd. Customer':'Rptd_Customer', \n",
    "                           'Res. Customer':'Res_Customer','Rptd. Item':'Rptd_Item',\n",
    "                           'Res. Item #':'Res_Item','Rptd. Distributor':'Rptd_Distributor',\n",
    "                           'Royalty Type':'Royalty_Type'},inplace=True)\n",
    "\n",
    "df_IL_2017.fillna('Blank',inplace=True)"
   ]
  },
  {
   "cell_type": "code",
   "execution_count": 4,
   "metadata": {
    "collapsed": false
   },
   "outputs": [
    {
     "name": "stdout",
     "output_type": "stream",
     "text": [
      "<class 'pandas.core.frame.DataFrame'>\n",
      "RangeIndex: 17952 entries, 0 to 17951\n",
      "Data columns (total 23 columns):\n",
      "Partner_Name               17952 non-null object\n",
      "Impl License Status        17952 non-null object\n",
      "Statement_ID               17952 non-null object\n",
      "Trans. End Date            17952 non-null object\n",
      "Sold_Quarter               17952 non-null object\n",
      "Qty                        17952 non-null int64\n",
      "Rptd_Customer              17952 non-null object\n",
      "Orig. Res, Customer        17952 non-null object\n",
      "Res_Customer               17952 non-null object\n",
      "Customer License Status    17952 non-null object\n",
      "Rptd_Item                  17952 non-null object\n",
      "Res_Item                   17952 non-null object\n",
      "Rptd. Sale Country Name    17952 non-null object\n",
      "Sale Sub-Region            17952 non-null object\n",
      "Rptd_Distributor           17952 non-null object\n",
      "Trans. #                   17952 non-null object\n",
      "Royalty_Type               17952 non-null object\n",
      "Transaction Status         17952 non-null object\n",
      "Claim Stage                17952 non-null object\n",
      "Eval/Sample Distributed    17952 non-null object\n",
      "Comments                   17952 non-null object\n",
      "SF Entity Id               17952 non-null int64\n",
      "SAP Entity ID              17952 non-null object\n",
      "dtypes: int64(2), object(21)\n",
      "memory usage: 3.2+ MB\n"
     ]
    }
   ],
   "source": [
    "df_IL_2017.info()"
   ]
  },
  {
   "cell_type": "code",
   "execution_count": 5,
   "metadata": {
    "collapsed": false
   },
   "outputs": [],
   "source": [
    "def cust_status(status):\n",
    "    Rptd_Customer, Res_Customer, Comments = status\n",
    "        \n",
    "    if Rptd_Customer == 'Blank'and Res_Customer == 'Blank':\n",
    "        return 'Resolved'\n",
    "    elif Rptd_Customer != 'Blank'and Res_Customer == 'Blank' and Comments == 'Blank':\n",
    "        return 'Not resolved'\n",
    "    elif Rptd_Customer != 'Blank'and Res_Customer == 'Blank' and Comments != 'Blank':\n",
    "        return 'Resolved'\n",
    "    else:\n",
    "        return 'Resolved'\n",
    "\n",
    "# def item_status(status):\n",
    "#     Rptd_Item, Res_Item = status\n",
    "    \n",
    "#     if Rptd_Item == 'Blank' and Res_Item == 'Blank':\n",
    "#         return 'Resolved'\n",
    "#     elif Rptd_Item != 'Blank' and Res_Item == 'Blank':\n",
    "#         return 'Not resolved'\n",
    "#     else:\n",
    "#         return 'Resolved'"
   ]
  },
  {
   "cell_type": "code",
   "execution_count": 6,
   "metadata": {
    "collapsed": false
   },
   "outputs": [],
   "source": [
    "df_IL_2017['Res_Cust_Status'] = df_IL_2017[['Rptd_Customer','Res_Customer','Comments']].apply(cust_status, axis=1)\n",
    "# df_IL_2017['Res_Item_Status'] = df_IL_2017[['Rptd_Item','Res_Item']].apply(item_status, axis=1)"
   ]
  },
  {
   "cell_type": "code",
   "execution_count": 7,
   "metadata": {
    "collapsed": false
   },
   "outputs": [
    {
     "data": {
      "text/html": [
       "<div>\n",
       "<table border=\"1\" class=\"dataframe\">\n",
       "  <thead>\n",
       "    <tr style=\"text-align: right;\">\n",
       "      <th></th>\n",
       "      <th>Partner_Name</th>\n",
       "      <th>Impl License Status</th>\n",
       "      <th>Statement_ID</th>\n",
       "      <th>Trans. End Date</th>\n",
       "      <th>Sold_Quarter</th>\n",
       "      <th>Qty</th>\n",
       "      <th>Rptd_Customer</th>\n",
       "      <th>Orig. Res, Customer</th>\n",
       "      <th>Res_Customer</th>\n",
       "      <th>Customer License Status</th>\n",
       "      <th>...</th>\n",
       "      <th>Rptd_Distributor</th>\n",
       "      <th>Trans. #</th>\n",
       "      <th>Royalty_Type</th>\n",
       "      <th>Transaction Status</th>\n",
       "      <th>Claim Stage</th>\n",
       "      <th>Eval/Sample Distributed</th>\n",
       "      <th>Comments</th>\n",
       "      <th>SF Entity Id</th>\n",
       "      <th>SAP Entity ID</th>\n",
       "      <th>Res_Cust_Status</th>\n",
       "    </tr>\n",
       "  </thead>\n",
       "  <tbody>\n",
       "    <tr>\n",
       "      <th>0</th>\n",
       "      <td>ALI CORPORATION</td>\n",
       "      <td>Active</td>\n",
       "      <td>IL-2018005831</td>\n",
       "      <td>31-Dec-17</td>\n",
       "      <td>2017-Q4</td>\n",
       "      <td>10800</td>\n",
       "      <td>ABOX42 GMBH</td>\n",
       "      <td>ABOX42 GMBH</td>\n",
       "      <td>ABOX42 GMBH</td>\n",
       "      <td>Active</td>\n",
       "      <td>...</td>\n",
       "      <td>YOSUN</td>\n",
       "      <td>POS-521518</td>\n",
       "      <td>IL Report</td>\n",
       "      <td>Closed</td>\n",
       "      <td>Blank</td>\n",
       "      <td>Blank</td>\n",
       "      <td>Blank</td>\n",
       "      <td>2030</td>\n",
       "      <td>105427</td>\n",
       "      <td>Resolved</td>\n",
       "    </tr>\n",
       "    <tr>\n",
       "      <th>1</th>\n",
       "      <td>ALI CORPORATION</td>\n",
       "      <td>Active</td>\n",
       "      <td>IL-2018005831</td>\n",
       "      <td>31-Dec-17</td>\n",
       "      <td>2017-Q4</td>\n",
       "      <td>225</td>\n",
       "      <td>ABOX42 GMBH</td>\n",
       "      <td>ABOX42 GMBH</td>\n",
       "      <td>ABOX42 GMBH</td>\n",
       "      <td>Active</td>\n",
       "      <td>...</td>\n",
       "      <td>YOSUN</td>\n",
       "      <td>POS-521519</td>\n",
       "      <td>IL Report</td>\n",
       "      <td>Closed</td>\n",
       "      <td>Blank</td>\n",
       "      <td>Blank</td>\n",
       "      <td>Blank</td>\n",
       "      <td>2030</td>\n",
       "      <td>105427</td>\n",
       "      <td>Resolved</td>\n",
       "    </tr>\n",
       "  </tbody>\n",
       "</table>\n",
       "<p>2 rows × 24 columns</p>\n",
       "</div>"
      ],
      "text/plain": [
       "      Partner_Name Impl License Status   Statement_ID Trans. End Date  \\\n",
       "0  ALI CORPORATION              Active  IL-2018005831       31-Dec-17   \n",
       "1  ALI CORPORATION              Active  IL-2018005831       31-Dec-17   \n",
       "\n",
       "  Sold_Quarter    Qty Rptd_Customer Orig. Res, Customer Res_Customer  \\\n",
       "0      2017-Q4  10800   ABOX42 GMBH         ABOX42 GMBH  ABOX42 GMBH   \n",
       "1      2017-Q4    225   ABOX42 GMBH         ABOX42 GMBH  ABOX42 GMBH   \n",
       "\n",
       "  Customer License Status       ...       Rptd_Distributor    Trans. #  \\\n",
       "0                  Active       ...                  YOSUN  POS-521518   \n",
       "1                  Active       ...                  YOSUN  POS-521519   \n",
       "\n",
       "  Royalty_Type Transaction Status Claim Stage Eval/Sample Distributed  \\\n",
       "0    IL Report             Closed       Blank                   Blank   \n",
       "1    IL Report             Closed       Blank                   Blank   \n",
       "\n",
       "  Comments SF Entity Id SAP Entity ID Res_Cust_Status  \n",
       "0    Blank         2030        105427        Resolved  \n",
       "1    Blank         2030        105427        Resolved  \n",
       "\n",
       "[2 rows x 24 columns]"
      ]
     },
     "execution_count": 7,
     "metadata": {},
     "output_type": "execute_result"
    }
   ],
   "source": [
    "df_IL_2017.head(2)"
   ]
  },
  {
   "cell_type": "code",
   "execution_count": 8,
   "metadata": {
    "collapsed": false
   },
   "outputs": [],
   "source": [
    "df_IL_2017Agg = df_IL_2017.groupby(['Partner_Name','Res_Cust_Status'])['Qty'].agg(['sum','count'])"
   ]
  },
  {
   "cell_type": "code",
   "execution_count": 9,
   "metadata": {
    "collapsed": false
   },
   "outputs": [],
   "source": [
    "# df_IL_2017Agg\n",
    "# df_IL_2017.to_csv('IL_2017_results.csv')\n",
    "# df_IL_2017Agg.to_csv('IL_2017_aggregated.csv')"
   ]
  },
  {
   "cell_type": "code",
   "execution_count": 3,
   "metadata": {
    "collapsed": false
   },
   "outputs": [
    {
     "ename": "ImportError",
     "evalue": "No module named widgets",
     "output_type": "error",
     "traceback": [
      "\u001b[1;31m---------------------------------------------------------------------------\u001b[0m",
      "\u001b[1;31mImportError\u001b[0m                               Traceback (most recent call last)",
      "\u001b[1;32m<ipython-input-3-852bddcee5e2>\u001b[0m in \u001b[0;36m<module>\u001b[1;34m()\u001b[0m\n\u001b[0;32m      5\u001b[0m \u001b[1;32mfrom\u001b[0m \u001b[0mplotly\u001b[0m\u001b[1;33m.\u001b[0m\u001b[0mgraph_objs\u001b[0m \u001b[1;32mimport\u001b[0m \u001b[1;33m*\u001b[0m\u001b[1;33m\u001b[0m\u001b[0m\n\u001b[0;32m      6\u001b[0m \u001b[1;32mimport\u001b[0m \u001b[0mplotly\u001b[0m\u001b[1;33m\u001b[0m\u001b[0m\n\u001b[1;32m----> 7\u001b[1;33m \u001b[1;32mfrom\u001b[0m \u001b[0mplotly\u001b[0m\u001b[1;33m.\u001b[0m\u001b[0mwidgets\u001b[0m \u001b[1;32mimport\u001b[0m \u001b[0mGraphWidget\u001b[0m\u001b[1;33m\u001b[0m\u001b[0m\n\u001b[0m",
      "\u001b[1;31mImportError\u001b[0m: No module named widgets"
     ]
    }
   ],
   "source": [
    "from IPython.html import widgets \n",
    "from IPython.display import display, clear_output\n",
    "\n",
    "import plotly.plotly as py\n",
    "from plotly.graph_objs import *\n",
    "import plotly\n",
    "from plotly.widgets import GraphWidget"
   ]
  }
 ],
 "metadata": {
  "anaconda-cloud": {},
  "kernelspec": {
   "display_name": "Python [Root]",
   "language": "python",
   "name": "Python [Root]"
  },
  "language_info": {
   "codemirror_mode": {
    "name": "ipython",
    "version": 2
   },
   "file_extension": ".py",
   "mimetype": "text/x-python",
   "name": "python",
   "nbconvert_exporter": "python",
   "pygments_lexer": "ipython2",
   "version": "2.7.13"
  }
 },
 "nbformat": 4,
 "nbformat_minor": 0
}
